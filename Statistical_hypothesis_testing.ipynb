{
 "cells": [
  {
   "cell_type": "markdown",
   "metadata": {
    "slideshow": {
     "slide_type": "slide"
    }
   },
   "source": [
    "# Statistical hypothesis testing"
   ]
  },
  {
   "cell_type": "code",
   "execution_count": 3,
   "metadata": {},
   "outputs": [],
   "source": [
    "# Import libraries needed:\n",
    "import numpy as np \n",
    "import matplotlib.pyplot as plt\n",
    "import matplotlib as mpl          # needed to set global font size for plots later.\n",
    "from scipy.stats import t         # for working with Student's t distribution\n",
    "from scipy.stats import chi2      # for working with chi-squared distribution\n",
    "from scipy.stats import poisson   # for working with Poisson distribution\n",
    "from scipy.stats import norm      # for working with the normal/Gaussian distribution   \n",
    "\n",
    "# Set global font size for plots:\n",
    "mpl.rcParams['font.size'] = 14\n",
    "# (see https://matplotlib.org/tutorials/introductory/customizing.html)."
   ]
  },
  {
   "cell_type": "markdown",
   "metadata": {},
   "source": [
    "### **Question 1**. \n",
    "\n",
    "Explain the difference between a one-tailed and a two-tailed statistical hypothesis test **in your own words**.\n",
    "\n",
    "**(1.5 points)**"
   ]
  },
  {
   "cell_type": "markdown",
   "metadata": {},
   "source": [
    "## Answer 1 ##\n",
    "\n",
    "The main difference between the one - tailed and the two - tailed statistical test is that the two - tailed test is used to test for how likely a sample/population property is equal to a hypothesized value, whereas the one - tailed test is used to test whether a sample/population property is larger or smaller than a hypothesized value. This will result in different null hypothetheses; e.g. a 2 - tailed test null hypothesis could be \"The population has a mean $ \\mu = 15 $\" but for a 1 - tailed tail the null hypothesis could be \"The population mean is $ \\mu >15 $\". Another big difference would be significance levels for the tests. Lets say we have threshold p - value of $ p_t = 0.05 $ and we are testing a Gaussian distribution, the two - tailed test will \"split\" the 5% into 2 rejection regions, one region for the top 2.5% of values for the Gaussian distribution and another for the lowest 2.5% of values. This is different for a one - tailed test, because we only test in one direction, so we keep the entire rejection region on one side - the right if our null hypothesis states that the actual value is bigger, or on the left if our hypothesis states the opposite."
   ]
  },
  {
   "cell_type": "markdown",
   "metadata": {},
   "source": [
    "### **Question 2.**\n",
    "\n",
    "In light of what we have seen about $\\chi^2$ goodness-of-fit tests, explain why the reduced $\\chi^2$ statistic  for a good fit with $K$ degrees of freedom is typically close to one. Use your own words.\n",
    "\n",
    "**(1.5 points)**"
   ]
  },
  {
   "cell_type": "markdown",
   "metadata": {},
   "source": [
    "## Answer 2 ##\n",
    "\n",
    "For a $ \\chi ^2$ goodness-of-fit test, we use the $ \\chi ^2$ statistic. This statistic follows a $ \\chi ^2$ distribution with $K$ degrees of freedom, centred around a mean $\\mu = K$. Therefore, for a \"good fit\", other than minimising the observed $ \\chi ^2$ for the data, we would also require that the observed $ \\chi ^2$ is close to the distribution mean, $\\mu = K$. Generally, the closer the two values are, the better the fit. Thus, for a \"perfect fit\" we expect the $\\chi _o ^2$ value to equal $K$. Remembering that the $ \\chi_{reduced} ^2 = \\chi _o ^2/K$, we see that for a \"good fit\" ($ \\chi _o ^2 \\approx K$) we can write $ \\chi_{reduced} ^2 = \\chi ^2/K \\approx K/K \\approx 1$."
   ]
  },
  {
   "cell_type": "markdown",
   "metadata": {
    "slideshow": {
     "slide_type": "slide"
    }
   },
   "source": [
    "### **Question 3**.\n",
    "\n",
    "Consider the following near-normal sample data set (see array x_data below):\n",
    "\n",
    "- **a)** **(0.75 points)** Calculate the Student's t statistic ($t_{\\mathrm{obs}}$) for a test of the hypothesis that the population mean is $\\mu = 6$. What does the observed t value mean?\n",
    "- **b)** **(0.75 points)** What distribution does the t statistic follow (be specific regarding distribution parameters). Plot the corresponding probability density function. \n",
    "- **c)** **(1 point)** What can we say about our hypothesis that the population from which our data is sampled has a mean equal to $\\mu = 6$? Explain and justify your answer.\n",
    "\n",
    "**(2.5 points in total)**\n",
    "\n",
    "Python hints: \n",
    "\n",
    "- You can calculate the mean of an array of values, x_list, as np.mean(x_list).\n",
    "- You can calculate the absolute value of a variable A as abs(A).\n",
    "- You can calculate the standard deviation of an array of values, x_list, as np.std(x_list).\n",
    "- Remember that you can get the number of elements in an array as len(x_list);\n",
    "- Avoid naming your t statistic variable \"t\". Use \"t_value\" or similar instead to avoid confusion with t from scipy.stats.\n"
   ]
  },
  {
   "cell_type": "markdown",
   "metadata": {},
   "source": [
    "## Answer 3 ##\n",
    "**a)** To calculate the Student's t -statistic, we will use the following formula: \n",
    "\n",
    "$$t = \\frac{|\\bar{x}-\\mu|}{\\mathrm{SE}}\\,.$$\n",
    "\n",
    "Where $\\mu $ is the hypothesized population mean, $\\bar x$ is the mean of the sample data set, and $\\mathrm{SE}$ is the standard error of the mean, which has the following formula:\n",
    "\n",
    "$$\\mathrm{SE} = \\frac{s}{\\sqrt{n-1}} $$\n",
    "\n",
    "Where s is the sample standard deviation, given by:\n",
    "\n",
    "$$ s = \\sqrt{\\frac{\\sum_{i=1}^n (x_i-\\bar{x})^2}{n}}\\,, $$\n",
    "\n",
    "But of course, in python we have standard deviation as a built in function of numpy, so there is no point calculating this manually. \n",
    "\n",
    "The final calculated value of the Student's t - statistic is called observed t - value, denoted as $ t_{obs} $. This value represents the difference between hypothesized mean and the sample mean, in terms of standard errors. In other words, it shows the number of standard errors the hypothesized mean is away from the sample mean."
   ]
  },
  {
   "cell_type": "code",
   "execution_count": 37,
   "metadata": {},
   "outputs": [],
   "source": [
    "x_data = np.array([12,  9,  5,  3,  8,  5,  6,  6,  4,  8])"
   ]
  },
  {
   "cell_type": "code",
   "execution_count": 38,
   "metadata": {},
   "outputs": [
    {
     "name": "stdout",
     "output_type": "stream",
     "text": [
      "The Student's t - statistic was calculated to be 0.7092993656151902\n"
     ]
    }
   ],
   "source": [
    "n = len(x_data) #number of data points in sample data set\n",
    "s = np.std(x_data) #standard deviation of data set\n",
    "mu = 6 #hypothesized population mean\n",
    "x_bar = np.mean(x_data) #mean of sample data\n",
    "standard_error = s/(np.sqrt(n - 1)) #standard error of mean\n",
    "t_obs = (abs(x_bar - mu))/standard_error #observed t - statistic\n",
    "K = n - 1 #degrees of freedom\n",
    "\n",
    "print(\"The Student's t - statistic was calculated to be\", t_obs)"
   ]
  },
  {
   "cell_type": "markdown",
   "metadata": {},
   "source": [
    "**b)** The t - statistic follows the Student's t distribution, with $K = n - 1$ degrees of freedom, which would be $K = 9 $ for our sample data set. Below I plotted the probability density function using the scipy.stats library."
   ]
  },
  {
   "cell_type": "code",
   "execution_count": 41,
   "metadata": {},
   "outputs": [
    {
     "data": {
      "image/png": "[encoded data removed]",
      "text/plain": [
       "<Figure size 432x288 with 1 Axes>"
      ]
     },
     "metadata": {
      "needs_background": "light"
     },
     "output_type": "display_data"
    }
   ],
   "source": [
    "x_points = np.linspace(-5,5,150) #chosen 150 points for a smooth plot\n",
    "\n",
    "plt.figure()\n",
    "plt.plot(x_points,t.pdf(x_points,9),'g', label=\"pdf for 9 dof\") #plotting pdf for student's t dist\n",
    "plt.xlabel(\"$t$\")\n",
    "plt.ylabel(\"pdf($t$ ; dof)\")\n",
    "plt.legend(loc=\"best\")\n",
    "plt.title(\"Student's t probability density function\");"
   ]
  },
  {
   "cell_type": "markdown",
   "metadata": {},
   "source": [
    "**c)** We can calculate the p - value for our calculated $ t_{obs} $ by using the cumulative distribution function and survival function using the formula below:\n",
    "\n",
    "$$\\begin{eqnarray}\n",
    "\t\\nonumber p & = & P(t \\leq -t_{\\mathrm{obs}} ; K) + P(t \\geq t_{\\mathrm{obs}} ; K) = \\\\\n",
    "\t\\nonumber  & = & \\int_{-\\infty}^{-t_{\\mathrm{obs}}} \\mathrm{pdf}(t ; K) dt + \\int_{t_{\\mathrm{obs}}}^{\\infty} \\mathrm{pdf}(t ; K) dt = \\\\\n",
    "\t\\nonumber & = & \\mathrm{CDF}(-t_{\\mathrm{obs}} ; K) + \\mathrm{SF}(t_{\\mathrm{obs}} ; K) \\,,\n",
    "\t  \\label{eq:p-value-Student-t}\n",
    "\\end{eqnarray}\n",
    "$$\n",
    "\n",
    "which we then compare to the threshold p - value to determine whether to reject the null hypothesis or whether we have no reason to reject it."
   ]
  },
  {
   "cell_type": "code",
   "execution_count": 21,
   "metadata": {},
   "outputs": [
    {
     "name": "stdout",
     "output_type": "stream",
     "text": [
      "The p - value for our observed t- value is 0.49610155552452073\n"
     ]
    }
   ],
   "source": [
    "p_value_q3 = t.cdf(-t_obs, K) + t.sf(t_obs, K) #using function t from scipy.stats library\n",
    "print(\"The p - value for our observed t- value is\", p_value_q3)"
   ]
  },
  {
   "cell_type": "markdown",
   "metadata": {},
   "source": [
    "Our p - value is then $\\approx 0.5$. This means that there is around a 50% possibility of finding a sample mean within $\\sim 0.71$ standard errors of the population mean and similarly around 50% chance to find a sample mean outside of that range. So the chances of finding $\\mu = 6$ or greater as a result of sampling errors is around 50%. As we were not given a threshold p - value, we will compare our value to the conventional threshold value of $p_{thres} = 0.05 $. We can see that $p_{thres} << p$, so there would be no reason to reject a null hypothesis that states that the population from which the sample data set was taken from has a mean $\\mu = 6$."
   ]
  },
  {
   "cell_type": "markdown",
   "metadata": {},
   "source": [
    "### **Question 4**\n",
    "\n",
    "Consider the following data (x_data and y_data arrays below) and fit, for which the vertical error bars are $\\Delta y_i = 60$, the least-squares best fit to a 3rd-order polynomial gives $y(x) = a_0 x^3 + a_1 x^2 + a_2 x + a_3$, with the fit parameters shown below, and the observed $\\chi^2$ statistic is $\\chi^2_{\\mathrm{obs}} \\approx 8.60$ (all obtained with the code in the cell below).\n",
    "\n",
    "Is this polynomial fit a good fit for this data set? Perform the relevant statistical test explaining the type of test you choose, the testing procedure step by step and the relevant distribution and parameters you use. Comment on your results. Consider that the error bars have been correctly estimated.\n",
    "\n",
    "Make sure you run the code cell below if you want to reuse the variables x_data, y_data, chi2_obs, etc.\n",
    "\n",
    "**(2.5 points)**"
   ]
  },
  {
   "cell_type": "code",
   "execution_count": 23,
   "metadata": {
    "scrolled": false
   },
   "outputs": [
    {
     "name": "stdout",
     "output_type": "stream",
     "text": [
      "a_0 = 0.41 ± 0.30\n",
      "a_1 = -2.54 ± 5.89\n",
      "a_2 = 30.24 ± 32.21\n",
      "a_3 = 38.33 ± 46.54\n"
     ]
    },
    {
     "data": {
      "image/png": "[encoded data removed]",
      "text/plain": [
       "<Figure size 432x288 with 1 Axes>"
      ]
     },
     "metadata": {
      "needs_background": "light"
     },
     "output_type": "display_data"
    },
    {
     "name": "stdout",
     "output_type": "stream",
     "text": [
      "The observed chi-squared statistic for this fit is 8.60\n"
     ]
    }
   ],
   "source": [
    "x_data = np.array(np.arange(0,14))\n",
    "y_data = np.array([ 31.55197512,  53.73190604,  82.03605485, 236.38912334,\n",
    "        62.44037039, 171.03790287, 216.36546313, 227.73651921,\n",
    "       306.61998892, 462.41489012, 540.76941364, 565.98393434,\n",
    "       723.38230323, 909.84808988])\n",
    "\n",
    "# Fit to a 3rd order polynomial:\n",
    "degree = 3       # degree of polynomial to fit\n",
    "fit, cvm = np.polyfit(x_data, y_data, degree, cov=True) # fit function\n",
    "# Outputs of np.polyfit are fit parameters (fit) and covariance matrix (cvm).\n",
    "\n",
    "# To obtain the uncertainties of the fit parameters, we get the diagonal elements\n",
    "# of the covariance matrix and take the square root:\n",
    "err = np.sqrt(np.diag(cvm))\n",
    "\n",
    "# Print fit parameters (from higher to lower power of x) with their errors (to 0 decimal places):\n",
    "[print(\"a_{0} = {1:0.2f} \\xb1 {2:0.2f}\".format(i,fit[i],err[i])) for i in range(len(fit))];\n",
    "\n",
    "# Calculate smooth curve to plot:\n",
    "xcurve = np.array(np.linspace(0,14,60))   # create array (60 points) to plot a smooth fitted curve.\n",
    "ycurve = fit[0]*xcurve**3 + fit[1]*xcurve**2 + fit[2]*xcurve + fit[3]   # calculate fitted curve.\n",
    "\n",
    "# Plot data and fitted curve:\n",
    "plt.plot(x_data, y_data, 'ro', label=\"data\")                    # plot data as red circles.\n",
    "plt.plot(xcurve, ycurve, 'k', label=\"3rd order polynomial fit\")       # plot black curve for fit.\n",
    "plt.legend(loc=\"best\")\n",
    "plt.xlabel('x')\n",
    "plt.ylabel('y')\n",
    "plt.show()\n",
    "\n",
    "# Calculate observed chi-squared statistic: \n",
    "delta_y = 60      # vertical error bar\n",
    "y_fitted = fit[0]*x_data**3 + fit[1]*x_data**2 + fit[2]*x_data + fit[3]   # fitted y values\n",
    "residuals = y_data - y_fitted       # residuals\n",
    "residuals_norm = residuals/delta_y  # normalised residuals\n",
    "\n",
    "chi2_obs = np.sum(residuals_norm**2)  # chi-squared parameter, sum of squared normalised residuals\n",
    "print(\"The observed chi-squared statistic for this fit is {:.2f}\".format(chi2_obs))"
   ]
  },
  {
   "cell_type": "markdown",
   "metadata": {},
   "source": [
    "Reminder: The **$\\chi^2$ statistic** in a goodness-of-fit $\\chi^2$ test is the sum of squared normalised residuals:\n",
    "\n",
    "$$ \\chi^2 = \\sum_{i=1}^n \\left(\\frac{y_i - y_{\\mathrm{fitted}}(x_i)}{\\Delta y_i} \\right)^2\\,,$$ \n",
    "\n",
    "where $\\Delta y_i$ is the experimental uncertainty in the measurement of the $y_i$ data point and $y_{\\mathrm{fitted}}(x_i)$ is the fitted function or model evaluated at our $x_i$ sample values. "
   ]
  },
  {
   "cell_type": "markdown",
   "metadata": {},
   "source": [
    "## Answer 4 ##\n",
    "I am choosing to use the $ \\chi^2 $ goodness-of-fit test for checking how good of a fit a model is to a data set.\n",
    "\n",
    "First, we should consider reduced $ \\chi^2 $ statistic, even though it is not strictly part of the test, it is a general indication of how good of a fit a model is to your data. For this, we will need to calculate the degrees of freedom which is given by the formula below:\n",
    "\n",
    "$$ K = n - m $$\n",
    "\n",
    "Where n is the number of data points and m is the number of fit parameters used in the fitting function. From above, we see that the function uses 4 fit parameters:\n",
    "\n",
    "$$ 𝑦(𝑥)=𝑎_0𝑥^3+𝑎_1𝑥^2+𝑎_2𝑥+𝑎_3 $$\n",
    "\n",
    "Which are $ a_0,a_1,a_2$ and $a_3$. There are 14 data points in our data set. This gives the number of degrees of freedom as $K = 14 - 4 = 10$.\n",
    "\n",
    "We can the calculate reduced chi squared using: $$ \\chi_{reduced}^2 =  \\chi^2 / K $$\n",
    "\n",
    "The result is displayed on the next code cell."
   ]
  },
  {
   "cell_type": "code",
   "execution_count": 43,
   "metadata": {},
   "outputs": [
    {
     "name": "stdout",
     "output_type": "stream",
     "text": [
      "The reduced chi squared statistic is: 0.86 \n",
      "\n"
     ]
    }
   ],
   "source": [
    "K1 = 14 - 4 #degrees of freedom, named K1 to differentiate between K from earlier section\n",
    "reduced_chisqr = chi2_obs/K1\n",
    "print(\"The reduced chi squared statistic is: {:.2f}\".format(reduced_chisqr),\"\\n\")"
   ]
  },
  {
   "cell_type": "markdown",
   "metadata": {},
   "source": [
    "A quick glance at the results tells us that this model is a good fit for the data points, as the reduced chi - squared statistic is close to 1.\n",
    "\n",
    "Commencing the actual goodness-of-fit test -\n",
    "our null hypothesis will be:\n",
    "\n",
    "$H_0$ : The fitted model, shown below, is a good fit for the data.\n",
    "\n",
    "\n",
    "$$ 𝑦(𝑥)=0.41𝑥^3-2.54𝑥^2+30.24𝑥+38.33 $$\n",
    "\n",
    "\n",
    "We must keep in mind that this test is one tailed, and we are only interested in p - values on the right hand side of mean, so we will use the survival function to calculate the p - value for our test. The last code cell for this question shows graphically how the survival function is used to calculate the p -value.\n",
    "\n",
    "Just an initial observation: our observed chi - squared value ($\\chi_o ^2$) is 8.6, and looking at the graph in the next code cell of the probability density function of our $\\chi^2$ distribution, we can see that 8.6 roughly lies in the middle of the distribution, so that the survival function should, by eye, return a p - value close to 0.5. This graph below also shows that we definitely will not reject our null hypothesis as it is much bigger than any conventional values of the threshold p - value."
   ]
  },
  {
   "cell_type": "code",
   "execution_count": 72,
   "metadata": {},
   "outputs": [
    {
     "data": {
      "image/png": "[encoded data removed]",
      "text/plain": [
       "<Figure size 432x288 with 1 Axes>"
      ]
     },
     "metadata": {
      "needs_background": "light"
     },
     "output_type": "display_data"
    }
   ],
   "source": [
    "x1 = np.linspace(0,25,100)\n",
    "pdf1 = chi2.pdf(x1,K1)\n",
    "\n",
    "plt.figure()\n",
    "plt.plot([8.6,8.6],[0,0.2],'r', label = \"x = $\\chi_o ^2$\")\n",
    "plt.plot(x1,pdf1,'b', label = \"pdf for 10 dof\")\n",
    "plt.xlabel(\"$\\chi^2$\")\n",
    "plt.ylabel(\"pdf($\\chi^2$; 10)\")\n",
    "plt.ylim((0,0.1))\n",
    "plt.legend(loc = \"best\")\n",
    "plt.show()"
   ]
  },
  {
   "cell_type": "markdown",
   "metadata": {},
   "source": [
    "In the next code cell below, I calculate the p - value for our observed $\\chi^2$. This is done for 10 degrees of freedom, using the survival function, from the chi2 function from the scipy.stats library. Alongside, I have also calculated the p - value for the expected value, and the mean plus 2 standard deviations. I did this for comparison purposes. Comparing the p - value to the p -value of the mean can give us hints of overfitting, and the p - value for the mean plus 2 standard deviations is the typical cut off point for rejection (anything further away is rejected)."
   ]
  },
  {
   "cell_type": "code",
   "execution_count": 73,
   "metadata": {},
   "outputs": [
    {
     "name": "stdout",
     "output_type": "stream",
     "text": [
      "The calculated p-value is: 0.57\n",
      "The p-value for the mean, SF(K; K) is: 0.44\n",
      "The p-value for mean+2*stdev, SF(K+2*sqrt(2K); K) is: 0.041\n"
     ]
    }
   ],
   "source": [
    "p_value = chi2.sf(chi2_obs, K1)    # p-value of observed chi2 statistic\n",
    "p_mean = chi2.sf(K1, K1)      # p-value corresponding to the mean\n",
    "p_mean_2std = chi2.sf(K1+2*np.sqrt(2*K1),K1) # p-value corresponding to the mean+2*standard devs\n",
    "print(\"The calculated p-value is: {:.2f}\".format(p_value))\n",
    "print(\"The p-value for the mean, SF(K; K) is: {:.2f}\".format(p_mean))\n",
    "print(\"The p-value for mean+2*stdev, SF(K+2*sqrt(2K); K) is: {:.3f}\".format(p_mean_2std))"
   ]
  },
  {
   "cell_type": "markdown",
   "metadata": {},
   "source": [
    "Finally, I will conclude that because $p \\approx 0.57$ and the typical threshold value is $p_{thres} = 0.05$, I cannot reject the null hypothesis as $p >> p_{thres}$. Although the p - value is quite a bit higher that the p - value for the mean, it is not an overly big difference, so we can safely say that it does not suggest overfitting. Another indication that this model is a good fit for our data is the fact that the reduced $\\chi^2$ is very close to 1."
   ]
  },
  {
   "cell_type": "code",
   "execution_count": 76,
   "metadata": {},
   "outputs": [
    {
     "data": {
      "image/png": "[encoded data removed]",
      "text/plain": [
       "<Figure size 432x288 with 1 Axes>"
      ]
     },
     "metadata": {
      "needs_background": "light"
     },
     "output_type": "display_data"
    }
   ],
   "source": [
    "x1 = np.linspace(0,25,100)\n",
    "pdf1 = chi2.pdf(x1,K1)\n",
    "\n",
    "x3 = np.linspace(chi2_obs,25,50)\n",
    "y3 = chi2.pdf(x3,K1)\n",
    "\n",
    "plt.figure()\n",
    "plt.plot(x1,pdf1,'g',label = \"pdf for 10 dof\")\n",
    "plt.xlabel(\"$\\chi^2$\")\n",
    "plt.ylabel(\"pdf($\\chi^2$; 10)\")\n",
    "plt.fill_between(x3,y3,0, alpha=0.3, color='c', label = \"survival function\")\n",
    "plt.legend(loc = \"best\")\n",
    "plt.show()"
   ]
  },
  {
   "cell_type": "markdown",
   "metadata": {},
   "source": [
    "### **Question 5** \n",
    "\n",
    "Given the following data below (50 data points in array x_data), acquired by throwing a dice 50 times, we would like to know if the dice is fair as opposed to biased, i.e, we would like to know if the data is consistent with a uniform probability distribution. \n",
    "\n",
    "A uniform probability distribution is a distribution with constant probability, in which all possible results of throwing the dice have an equal probability of 1/6. A uniform distribution is also known as a rectangular distribution and it is a distribution with 2 parameters (here, the minimum value 1 and the maximum value 6).\n",
    "\n",
    "Below, the the possible results when throwing the dice (1, 2, 3, 4, 5 or 6) are given as variable \"unique\". The number of times that each of these results occurs in the data (observed occurrences) is given as variable \"occur_obs\" below. The total number of occurrences is 50 (equal to the total number of throws of the dice).\n",
    "\n",
    "The expected number of occurrences for each result, considering the uniform probability distribution that characterises a fair dice, is simply the probability for each result times the total number of occurrences, i.e. $~50 \\times\\frac{1}{6} \\sim 8.333\\ldots$. The expected occurrences for all results are given below as variable \"occur_exp\".\n",
    "\n",
    "Perform the relevant statistical hypothesis test to answer whether the dice is fair/unbiased and whether the observed sample can be assumed to have been drawn from a uniform distribution. Explain the type of test you choose, the testing procedure step by step and the relevant statistic, distribution and parameters you use. Comment on your results. \n",
    "\n",
    "Make sure you run the code cells below if you want to reuse the variables x_data, unique, occur_obs, occur_exp, etc.\n",
    "\n",
    "**(2 points)**"
   ]
  },
  {
   "cell_type": "code",
   "execution_count": 4,
   "metadata": {},
   "outputs": [
    {
     "name": "stdout",
     "output_type": "stream",
     "text": [
      "Possible results of throwing the dice:  [1 2 3 4 5 6] \n",
      "\n",
      "Observed occurrences for each possible result: [13  7  6 10  8  6] \n",
      "\n",
      "Expected occurrences for each possible result for fair dice: \n",
      " [8.33333333 8.33333333 8.33333333 8.33333333 8.33333333 8.33333333]\n"
     ]
    }
   ],
   "source": [
    "x_data = np.array([4, 1, 6, 2, 4, 4, 1, 5, 4, 1, 4, 5, 1, 6, 3, 6, 2, 4, 4, 6, 4, 2,\n",
    "                   5, 5, 1, 3, 1, 1, 5, 5, 1, 4, 2, 3, 1, 5, 3, 4, 3, 3, 1, 6, 2, 2,\n",
    "                   1, 1, 1, 2, 5, 6])\n",
    "\n",
    "# Find unique values and their number of occurrences within the data:\n",
    "unique, occur_obs = np.unique(x_data, return_counts=True)   \n",
    "\n",
    "print(\"Possible results of throwing the dice: \", unique, \"\\n\")\n",
    "print(\"Observed occurrences for each possible result:\", occur_obs, \"\\n\")  \n",
    "\n",
    "# Expected occurrences from uniform distribution for fair dice:\n",
    "occur_exp = np.ones(6)*50/6 \n",
    "print(\"Expected occurrences for each possible result for fair dice:\", \"\\n\", occur_exp) "
   ]
  },
  {
   "cell_type": "markdown",
   "metadata": {},
   "source": [
    "## Answer 5 ##\n",
    "\n",
    "Throwing a unbiased die should result in a discrete uniform distribution as the probability of getting 1 to 6 should be equal. Therefore, the null hypothesis is:\n",
    "\n",
    "$ H_0 $ : The data from the 50 dice throws follows a uniform distribution, and is therefore a fair dice.\n",
    "\n",
    "we will test this hypothesis using the $\\chi^2$ test for distributions. This method involves comparing the histograms of expected and observed occurrences, where the histogram for the expected occurrences should be uniform e.g. all the bars should be the same height. Below I have plotted the histogram for the observed occurences, with a line representing the expected occurrences for a fair die."
   ]
  },
  {
   "cell_type": "code",
   "execution_count": 6,
   "metadata": {},
   "outputs": [
    {
     "name": "stdout",
     "output_type": "stream",
     "text": [
      "The total no. of observed occurrences is equal to the total no. of data points: 50\n"
     ]
    },
    {
     "data": {
      "image/png": "[encoded data removed]",
      "text/plain": [
       "<Figure size 432x288 with 1 Axes>"
      ]
     },
     "metadata": {
      "needs_background": "light"
     },
     "output_type": "display_data"
    }
   ],
   "source": [
    "bin_ends = np.array([1, 2, 3, 4, 5, 6, 7])  \n",
    "bin_width = bin_ends[1] - bin_ends[0]\n",
    "\n",
    "print(\"The total no. of observed occurrences is equal to the total no. of data points:\",np.sum(occur_obs))\n",
    "\n",
    "plt.figure()\n",
    "plt.hist(x_data, bins=bin_ends,label = \"obs occurences\")\n",
    "plt.plot([1,7],[8.33,8.33],label = \"exp occurrences\")\n",
    "\n",
    "plt.legend(loc=\"best\")\n",
    "plt.xlabel(\"dice values + 1\")\n",
    "plt.ylabel(\"occurrences\")\n",
    "plt.show()"
   ]
  },
  {
   "cell_type": "markdown",
   "metadata": {},
   "source": [
    "As the occurrences are for a fair die, there is no uncertainty, as we know with 100% certainty that a 100% fair die will return $50/6 = 8.333$ occurrences for each dice value, on average.\n",
    "\n",
    "But, as we have both the expected and the observed occurrences prepared and all bins have occurrences $>5$, we can calculate the observed $\\chi^2$ already, with no additional work. We will use the formula:\n",
    "\n",
    "$$\\chi^2 = \\sum_i \\frac{\\left(O_i-E_i \\right)^2}{E_i}\\,.$$\n",
    "\n",
    "Where $O_i$ are the observed occurrences and $E_i$ are the expected occurrences. $i$ represents the bins of the histogram above. We calculate the value below."
   ]
  },
  {
   "cell_type": "code",
   "execution_count": 7,
   "metadata": {},
   "outputs": [
    {
     "name": "stdout",
     "output_type": "stream",
     "text": [
      "The observed chi - squared statistic is 4.4799999999999995\n"
     ]
    }
   ],
   "source": [
    "chi2_stat = np.sum((occur_obs - occur_exp)**2/occur_exp)\n",
    "print(\"The observed chi - squared statistic is\", chi2_stat)"
   ]
  },
  {
   "cell_type": "markdown",
   "metadata": {},
   "source": [
    "Now, we need to conduct a $\\chi^2$ test calculating the p-value using the survival function for the observed $\\chi^2$ statistic with the relevant number of degrees of freedom, which are calculated below.\n",
    "\n",
    "The number of degrees of freedom for this test can be calculated like so: \n",
    "$$K = n_{\\mathrm{bins}} - m - 1$$\n",
    "\n",
    "$n_{\\mathrm{bins}}$ is the number of bins and $m$ is the number of parameters that define the hypothesised uniform distribution. \n",
    "\n",
    "Here, we have $n_{\\mathrm{bins}} = 6$, as we have 6 outcomes of rolling the dice and $m = 2$, as the hypothesised uniform distribution has two parameters (the minimum value 1 and the maximum value 6).\n",
    "\n",
    "Here, we test the hypothesis that our sample distribution matches a uniform distribution with the same mean and same number of measurements as the sample. Therefore, the number of degrees of freedom is $K = 6-3 = 3$."
   ]
  },
  {
   "cell_type": "markdown",
   "metadata": {},
   "source": [
    "Noting that this test is one - tailed, we will calulate p-value using the survival function for the observed $\\chi^2$ statistic and for 3 degrees of freedom. Represented by $\\mathrm{SF} (\\chi_\\mathrm{observed}^2;3) $, is calculated below."
   ]
  },
  {
   "cell_type": "code",
   "execution_count": 11,
   "metadata": {},
   "outputs": [
    {
     "name": "stdout",
     "output_type": "stream",
     "text": [
      "The chi-squared statistic for testing our distribution is: 4.48\n",
      "The number of degrees of freedom is K = 3\n",
      "p-value: 0.21\n"
     ]
    }
   ],
   "source": [
    "K2 = len(unique) - 3   # No. degrees of freedom with new name to differentiate first 2 parts\n",
    "print(\"The chi-squared statistic for testing our distribution is: {:.2f}\".format(chi2_stat))\n",
    "print(\"The number of degrees of freedom is K =\",K2)\n",
    "\n",
    "sf5 = chi2.sf(chi2_stat,K2) \n",
    "print(\"p-value: {:.2f}\".format(sf5))"
   ]
  },
  {
   "cell_type": "markdown",
   "metadata": {},
   "source": [
    "As we were not given a threshold, we will use the conventional $p_{thres} = 0.05$. When compared to the p - value given by the survival function, $p \\approx 0.21$, we see $p > p_{thres}$. There is no reason to reject the null hypothesis. Therefore, we can conclude that our dice is likely to be fair, and outcomes of rolls of the dice follow a uniform distribution."
   ]
  },
  {
   "cell_type": "code",
   "execution_count": null,
   "metadata": {},
   "outputs": [],
   "source": []
  }
 ],
 "metadata": {
  "kernelspec": {
   "display_name": "Python 3",
   "language": "python",
   "name": "python3"
  },
  "language_info": {
   "codemirror_mode": {
    "name": "ipython",
    "version": 3
   },
   "file_extension": ".py",
   "mimetype": "text/x-python",
   "name": "python",
   "nbconvert_exporter": "python",
   "pygments_lexer": "ipython3",
   "version": "3.8.3"
  }
 },
 "nbformat": 4,
 "nbformat_minor": 4
}
